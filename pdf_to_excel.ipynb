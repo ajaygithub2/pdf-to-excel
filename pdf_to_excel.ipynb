{
 "cells": [
  {
   "cell_type": "code",
   "execution_count": 1,
   "metadata": {},
   "outputs": [],
   "source": [
    "from PyPDF2 import PdfReader\n",
    "import pandas as pd"
   ]
  },
  {
   "cell_type": "code",
   "execution_count": 31,
   "metadata": {},
   "outputs": [
    {
     "name": "stdout",
     "output_type": "stream",
     "text": [
      "['A.T Road, Opposite of Sanjeevani Hospital,KAMRUP, ASSAM-781011, India', 'Block no. 7, 2nd Floor, General AdministrationDepartment, New Sachivalaya, Gandhinagar,GANDHI NAGAR, GUJARAT-382010, India', 'General & Signalling Stores Depot, Mettuguda,HYDERABAD, TELANGANA-500017, India']\n"
     ]
    }
   ],
   "source": [
    "contract_no = []\n",
    "org_type = []\n",
    "org_ministry = []\n",
    "buyer_name = []\n",
    "buyer_address = []\n",
    "\n",
    "for pdf_no in range(1,4):\n",
    "    # Read the file\n",
    "    file_name = f\"{pdf_no}.pdf\"\n",
    "    reader = PdfReader(file_name)\n",
    "    page = reader.pages[0]\n",
    "\n",
    "    # Get the text\n",
    "    text = page.extract_text().split(\"\\n\")\n",
    "\n",
    "    # Get Contract No.\n",
    "    index = [i+2 for i, x in enumerate(text) if x == \"Contract No:\"]\n",
    "    contract_no.append(text[index[0]])\n",
    "\n",
    "    # Get Organisation type\n",
    "    index = [i+1 for i, x in enumerate(text) if x == \"Type:\"]\n",
    "    org_type.append(text[index[0]])\n",
    "\n",
    "    # Get Organisation ministry\n",
    "    index = [i+1 for i, x in enumerate(text) if x == \"Ministry:\"]\n",
    "    org_ministry.append(text[index[0]])\n",
    "\n",
    "    # Get Buyer Name\n",
    "    index = [i+1 for i, x in enumerate(text) if x == \"Name:\"]\n",
    "    buyer_name.append(text[index[0]])\n",
    "\n",
    "    # Get Buyer Address\n",
    "    index = [i+1 for i, x in enumerate(text) if x == \"Address:\"]\n",
    "    address =  \"\"\n",
    "    blank_index = [i for i, x in enumerate(text[index[0]:]) if x == \" \"]\n",
    "    \n",
    "    for item in text[index[0]:index[0]+blank_index[0]]:\n",
    "        address = address + item\n",
    "    buyer_address.append(address)    "
   ]
  },
  {
   "cell_type": "code",
   "execution_count": 37,
   "metadata": {},
   "outputs": [],
   "source": [
    "data = pd.DataFrame({'Contract No.' : contract_no,\n",
    "                                'Organisation Type' : org_type,\n",
    "                                'Organisation Ministry' : org_ministry,\n",
    "                                 'Buyer Name': buyer_name,\n",
    "                                  'Buyer Address': buyer_address })\n",
    "data.to_excel(\"data.xlsx\", index= False)"
   ]
  }
 ],
 "metadata": {
  "kernelspec": {
   "display_name": "Python 3",
   "language": "python",
   "name": "python3"
  },
  "language_info": {
   "codemirror_mode": {
    "name": "ipython",
    "version": 3
   },
   "file_extension": ".py",
   "mimetype": "text/x-python",
   "name": "python",
   "nbconvert_exporter": "python",
   "pygments_lexer": "ipython3",
   "version": "3.11.1"
  },
  "orig_nbformat": 4
 },
 "nbformat": 4,
 "nbformat_minor": 2
}
